{
 "cells": [
  {
   "cell_type": "markdown",
   "metadata": {},
   "source": [
    "# Take the video and make it an array of frames\n",
    "In our approach, not all frames of the video have to be calculated,\n",
    "only some typical ones are selected by the frame-skipping model\n",
    "for initial processing."
   ]
  },
  {
   "cell_type": "code",
   "execution_count": 13,
   "metadata": {},
   "outputs": [],
   "source": [
    "#imports\n",
    "import cv2\n",
    "import numpy as np\n",
    "from skimage.color import rgb2gray\n",
    "import skimage.io as io\n",
    "from skimage.exposure import histogram\n",
    "import cv2\n",
    "import os\n",
    "from os.path import isfile, join\n",
    "from moviepy.editor import *\n",
    "import soundfile as sf\n",
    "from videoprops import get_video_properties  #To get bitrate\n",
    "import shutil #To delete folders\n"
   ]
  },
  {
   "cell_type": "code",
   "execution_count": 14,
   "metadata": {},
   "outputs": [],
   "source": [
    "#FSM\n",
    "def GetFrames(fileName, unitstep):\n",
    "    video = VideoFileClip(fileName)  # 2.\n",
    "    audio = video.audio  # 3.\n",
    "    audio.write_audiofile(\"audio_from_video.wav\")  # 4.\n",
    "    audio.write_audiofile(\"audio_from_video.mp3\")  # 4.\n",
    "\n",
    "    cap = cv2.VideoCapture(fileName)\n",
    "    frameCount = int(cap.get(cv2.CAP_PROP_FRAME_COUNT))\n",
    "    frameWidth = int(cap.get(cv2.CAP_PROP_FRAME_WIDTH))\n",
    "    frameHeight = int(cap.get(cv2.CAP_PROP_FRAME_HEIGHT))\n",
    "\n",
    "    buf = np.empty((frameCount, frameHeight, frameWidth, 3), np.dtype('uint8'))\n",
    "\n",
    "    fc = 0\n",
    "    ret = True\n",
    "\n",
    "    while fc < frameCount and ret:\n",
    "        ret, buf[fc] = cap.read()\n",
    "        fc += 1\n",
    "\n",
    "    cap.release()\n",
    "\n",
    "    SelectedFrames = []\n",
    "\n",
    "    count = 0\n",
    "    props = get_video_properties(\"\" + fileName + \"\")\n",
    "\n",
    "    print(\"here\")\n",
    "    if unitstep == 1:\n",
    "        print(\"here2\")\n",
    "        return buf, props['bit_rate'], props['avg_frame_rate']\n",
    "    else:\n",
    "        for i in range(0, buf.shape[0], unitstep):\n",
    "            SelectedFrames.append(buf[i])\n",
    "            # io.imshow(SelectedFrames[count])\n",
    "            # io.show()\n",
    "            # count += 1\n",
    "        # # cv2.waitKey(0)\n",
    "        # print(buf.shape)\n",
    "        print(len(SelectedFrames))\n",
    "        return SelectedFrames, props['bit_rate'], props['avg_frame_rate']\n"
   ]
  },
  {
   "cell_type": "code",
   "execution_count": 23,
   "metadata": {},
   "outputs": [],
   "source": [
    "#CDM\n",
    "from imports import *\n",
    "\n",
    "\n",
    "# def convert_frames_to_video(rgb_frames, bitrate, realFps):\n",
    "#     NumberOfFrames = len(rgb_frames)\n",
    "#     f = sf.SoundFile('audio_from_video.wav')\n",
    "#     inSeconds = (len(f) / f.samplerate)\n",
    "#     fps = float(NumberOfFrames) / inSeconds\n",
    "#     realFps = realFps.split(\"/\")\n",
    "#     realFps = float(realFps[0]) / float(realFps[1])\n",
    "#     video = ImageSequenceClip([\"\" + \"Frames\" + \"/Frame \" + str(i + 1) + \".png\" for i in range(len(rgb_frames))],\n",
    "#                               fps=float(realFps))\n",
    "#     # clip_resized = video.resize(height=360,width=360)\n",
    "#\n",
    "#     video.write_videofile(r\"Output Video.mp4\", audio=\"audio_from_video.mp3\",\n",
    "#                           bitrate=(str(int(bitrate) - (0.05 * int(bitrate)))))\n",
    "#     # os.remove(\"\" + outputAudio + \"\")\n",
    "#     shutil.rmtree(\"\" + \"Frames\" + \"\")\n",
    "\n",
    "def convert_frames_to_video(rgb_frames, bitrate, realFps):\n",
    "    NumberOfFrames = len(rgb_frames)\n",
    "    f = sf.SoundFile('audio_from_video.wav')\n",
    "    inSeconds = (len(f) / f.samplerate)\n",
    "    fps = float(NumberOfFrames) / inSeconds\n",
    "    realFps = realFps.split(\"/\")\n",
    "    realFps = float(realFps[0]) / float(realFps[1])\n",
    "    # video = ImageSequenceClip([\"\" + \"Frames\" + \"/Frame \" + str(i + 1) + \".png\" for i in range(len(rgb_frames))],\n",
    "    #                           fps=float(realFps))\n",
    "    # # clip_resized = video.resize(height=360,width=360)\n",
    "    #\n",
    "    # video.write_videofile(r\"Output Video.mp4\", audio=\"audio_from_video.mp3\",\n",
    "    #                       bitrate=(str(int(bitrate) - (0.05 * int(bitrate)))))\n",
    "    # # os.remove(\"\" + outputAudio + \"\")\n",
    "    # shutil.rmtree(\"\" + \"Frames\" + \"\")\n",
    "    #\n",
    "    height, width, layers = rgb_frames[0].shape\n",
    "    out = cv2.VideoWriter('project.avi', cv2.VideoWriter_fourcc(*'DIVX'), realFps, (width, height), bitrate=(str(int(bitrate) - (0.05 * int(bitrate)))))\n",
    "\n",
    "    for i in range(len(rgb_frames)):\n",
    "        out.write(rgb_frames[i])\n",
    "    out.release()\n",
    "\n",
    "\n",
    "def CDM(rgbFrames, bitrate, realFps):\n",
    "    i = 1\n",
    "    toBeDeleted = []\n",
    "    while i < len(rgbFrames) - 1:\n",
    "        hist_i, bins_i = histogram(rgb2gray(rgbFrames[i]))\n",
    "        hist_iPlus1, bins_iiPlus1 = histogram(rgb2gray(rgbFrames[i + 1]))\n",
    "        hist_iMinus1, bins_iiMinus1 = histogram(rgb2gray(rgbFrames[i - 1]))\n",
    "\n",
    "        summationAfter = 0\n",
    "        summationBefore = 0\n",
    "        for k in range(0, 256, 1):\n",
    "            summationAfter += (abs(hist_i[k] - hist_iPlus1[k]))\n",
    "        for k in range(0, 256, 1):\n",
    "            summationBefore += (abs(hist_i[k] - hist_iMinus1[k]))\n",
    "\n",
    "        Di_iPlus1 = summationAfter / (sum(hist_i) + sum(hist_iPlus1))\n",
    "        Di_iMinus1 = summationBefore / (sum(hist_i) + sum(hist_iMinus1))\n",
    "\n",
    "        if Di_iPlus1 < 0.05 and Di_iMinus1 < 0.05:\n",
    "            toBeDeleted.append(i)\n",
    "            i += 2\n",
    "        else:\n",
    "            i += 1\n",
    "    print(len(rgbFrames), \"before\")\n",
    "    rgbFrames_final = []\n",
    "    for i in range(len(rgbFrames)):\n",
    "        if i in toBeDeleted:\n",
    "            continue\n",
    "        else:\n",
    "            rgbFrames_final.append(rgbFrames[i])\n",
    "    print(len(rgbFrames_final), \"after\")\n",
    "    # os.mkdir(\"Frames\")\n",
    "    # print(\"4\")\n",
    "\n",
    "    # for i in range(len(rgbFrames_final)):\n",
    "    #     cv2.imwrite(\"\" + \"Frames\" + \"/Frame \" + str(i + 1) + \".png\",\n",
    "    #                 rgbFrames_final[i])  # Saving the frames that should be concatinated for making a video\n",
    "    return rgbFrames_final\n"
   ]
  },
  {
   "cell_type": "code",
   "execution_count": 4,
   "metadata": {},
   "outputs": [
    {
     "name": "stderr",
     "output_type": "stream",
     "text": [
      "\r",
      "chunk:   0%|                                                                        | 0/6920 [00:00<?, ?it/s, now=None]"
     ]
    },
    {
     "name": "stdout",
     "output_type": "stream",
     "text": [
      "MoviePy - Writing audio in audio_from_video.wav\n"
     ]
    },
    {
     "name": "stderr",
     "output_type": "stream",
     "text": [
      "chunk:   0%|                                                                        | 0/6920 [00:00<?, ?it/s, now=None]"
     ]
    },
    {
     "name": "stdout",
     "output_type": "stream",
     "text": [
      "MoviePy - Done.\n",
      "MoviePy - Writing audio in audio_from_video.mp3\n"
     ]
    },
    {
     "name": "stderr",
     "output_type": "stream",
     "text": [
      "                                                                                                                       \r"
     ]
    },
    {
     "name": "stdout",
     "output_type": "stream",
     "text": [
      "MoviePy - Done.\n",
      "here\n",
      "here2\n",
      "9404\n",
      "GetFrames Done\n"
     ]
    }
   ],
   "source": [
    "rgbframes, bitrate, realFps = GetFrames(\"COSTA RICA IN 4K 60fps HDR (ULTRA HD).mp4\",\n",
    "                   1)  # take the filename, and the unit step\n",
    "print(len(rgbframes))\n",
    "print(\"GetFrames Done\")"
   ]
  },
  {
   "cell_type": "code",
   "execution_count": null,
   "metadata": {},
   "outputs": [],
   "source": [
    "rgbFrames_final=CDM(rgbframes, bitrate, realFps)"
   ]
  },
  {
   "cell_type": "code",
   "execution_count": 12,
   "metadata": {},
   "outputs": [
    {
     "ename": "TypeError",
     "evalue": "object of type 'NoneType' has no len()",
     "output_type": "error",
     "traceback": [
      "\u001b[1;31m---------------------------------------------------------------------------\u001b[0m",
      "\u001b[1;31mTypeError\u001b[0m                                 Traceback (most recent call last)",
      "\u001b[1;32m<ipython-input-12-9ab12b64128d>\u001b[0m in \u001b[0;36m<module>\u001b[1;34m\u001b[0m\n\u001b[1;32m----> 1\u001b[1;33m \u001b[0mconvert_frames_to_video\u001b[0m\u001b[1;33m(\u001b[0m\u001b[0mrgbFrames_final\u001b[0m\u001b[1;33m,\u001b[0m \u001b[0mbitrate\u001b[0m\u001b[1;33m,\u001b[0m \u001b[0mrealFps\u001b[0m\u001b[1;33m)\u001b[0m\u001b[1;33m\u001b[0m\u001b[1;33m\u001b[0m\u001b[0m\n\u001b[0m",
      "\u001b[1;32m<ipython-input-3-7354c73e1dc8>\u001b[0m in \u001b[0;36mconvert_frames_to_video\u001b[1;34m(rgb_frames, bitrate, realFps)\u001b[0m\n\u001b[0;32m     20\u001b[0m \u001b[1;33m\u001b[0m\u001b[0m\n\u001b[0;32m     21\u001b[0m \u001b[1;32mdef\u001b[0m \u001b[0mconvert_frames_to_video\u001b[0m\u001b[1;33m(\u001b[0m\u001b[0mrgb_frames\u001b[0m\u001b[1;33m,\u001b[0m \u001b[0mbitrate\u001b[0m\u001b[1;33m,\u001b[0m \u001b[0mrealFps\u001b[0m\u001b[1;33m)\u001b[0m\u001b[1;33m:\u001b[0m\u001b[1;33m\u001b[0m\u001b[1;33m\u001b[0m\u001b[0m\n\u001b[1;32m---> 22\u001b[1;33m     \u001b[0mNumberOfFrames\u001b[0m \u001b[1;33m=\u001b[0m \u001b[0mlen\u001b[0m\u001b[1;33m(\u001b[0m\u001b[0mrgb_frames\u001b[0m\u001b[1;33m)\u001b[0m\u001b[1;33m\u001b[0m\u001b[1;33m\u001b[0m\u001b[0m\n\u001b[0m\u001b[0;32m     23\u001b[0m     \u001b[0mf\u001b[0m \u001b[1;33m=\u001b[0m \u001b[0msf\u001b[0m\u001b[1;33m.\u001b[0m\u001b[0mSoundFile\u001b[0m\u001b[1;33m(\u001b[0m\u001b[1;34m'audio_from_video.wav'\u001b[0m\u001b[1;33m)\u001b[0m\u001b[1;33m\u001b[0m\u001b[1;33m\u001b[0m\u001b[0m\n\u001b[0;32m     24\u001b[0m     \u001b[0minSeconds\u001b[0m \u001b[1;33m=\u001b[0m \u001b[1;33m(\u001b[0m\u001b[0mlen\u001b[0m\u001b[1;33m(\u001b[0m\u001b[0mf\u001b[0m\u001b[1;33m)\u001b[0m \u001b[1;33m/\u001b[0m \u001b[0mf\u001b[0m\u001b[1;33m.\u001b[0m\u001b[0msamplerate\u001b[0m\u001b[1;33m)\u001b[0m\u001b[1;33m\u001b[0m\u001b[1;33m\u001b[0m\u001b[0m\n",
      "\u001b[1;31mTypeError\u001b[0m: object of type 'NoneType' has no len()"
     ]
    }
   ],
   "source": [
    "convert_frames_to_video(rgbFrames_final, bitrate, realFps)\n"
   ]
  },
  {
   "cell_type": "code",
   "execution_count": null,
   "metadata": {},
   "outputs": [],
   "source": [
    "print((rgbFrames_final))"
   ]
  },
  {
   "cell_type": "code",
   "execution_count": null,
   "metadata": {},
   "outputs": [],
   "source": []
  }
 ],
 "metadata": {
  "kernelspec": {
   "display_name": "Python 3",
   "language": "python",
   "name": "python3"
  },
  "language_info": {
   "codemirror_mode": {
    "name": "ipython",
    "version": 3
   },
   "file_extension": ".py",
   "mimetype": "text/x-python",
   "name": "python",
   "nbconvert_exporter": "python",
   "pygments_lexer": "ipython3",
   "version": "3.8.5"
  }
 },
 "nbformat": 4,
 "nbformat_minor": 4
}
